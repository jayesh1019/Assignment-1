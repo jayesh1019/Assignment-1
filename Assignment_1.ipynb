{
 "cells": [
  {
   "cell_type": "code",
   "execution_count": 1,
   "id": "85975ded-eec3-429d-9854-81946f535144",
   "metadata": {},
   "outputs": [
    {
     "name": "stdout",
     "output_type": "stream",
     "text": [
      "For loop example\n",
      "1\n",
      "2\n",
      "3\n",
      "4\n",
      "5\n",
      "6\n",
      "7\n",
      "8\n",
      "9\n",
      "While loop example\n",
      "0\n",
      "1\n",
      "2\n",
      "3\n",
      "4\n",
      "5\n",
      "6\n",
      "7\n",
      "8\n",
      "9\n"
     ]
    }
   ],
   "source": [
    "# Q1.  Explain with an example each when to use a for loop and a while loop\n",
    "\n",
    "# for loop :- A for loop enables a particular set of conditions to be executed repeatedly until a condition is satisfied\n",
    "\n",
    "# example\n",
    "\n",
    "\n",
    "l = [1 ,2,3,4,5,6,7,8,9]\n",
    "print(\"For loop example\")\n",
    "for i in l:\n",
    "    print(i)\n",
    "    \n",
    "# while loop :- With the while loop we can execute a set of statements as long as a condition is true.\n",
    "\n",
    "num = 0\n",
    "print(\"While loop example\")\n",
    "while num<10:\n",
    "    print(num)\n",
    "    num += 1 "
   ]
  },
  {
   "cell_type": "code",
   "execution_count": 2,
   "id": "adddbc39-656e-42f7-94f2-d81a21d16f12",
   "metadata": {},
   "outputs": [
    {
     "name": "stdout",
     "output_type": "stream",
     "text": [
      "The sum of first 10 natural number is:  55\n",
      "The product of first 10 natural number is:  3628800\n"
     ]
    }
   ],
   "source": [
    "# Q2.  Write a python program to print the sum and product of the first 10 natural numbers using for and while loop\n",
    "\n",
    "# using for loop sum and product \n",
    "sum = 0\n",
    "product = 1\n",
    "for i in range(1 ,11):\n",
    "    sum+=i\n",
    "    product*=i\n",
    "print(\"The sum of first 10 natural number is: \" , sum)\n",
    "print(\"The product of first 10 natural number is: \" , product)"
   ]
  },
  {
   "cell_type": "code",
   "execution_count": 3,
   "id": "a929e0d5-ea8d-43cb-b4d4-ecb7f4704be2",
   "metadata": {},
   "outputs": [
    {
     "name": "stdout",
     "output_type": "stream",
     "text": [
      "The sum of first 10 natural number is:  55\n",
      "The product of first 10 natural number is:  3628800\n"
     ]
    }
   ],
   "source": [
    "#using while loop sum and product\n",
    "sum1 = 0\n",
    "number = 1\n",
    "product1 = 1\n",
    "\n",
    "while number <= 10:\n",
    "    sum1 = sum1 + number\n",
    "    product1 = product1*number \n",
    "    number = number + 1\n",
    "    \n",
    "print(\"The sum of first 10 natural number is: \" , sum1)\n",
    "print(\"The product of first 10 natural number is: \" , product1)"
   ]
  },
  {
   "cell_type": "code",
   "execution_count": 4,
   "id": "22645508-545d-4dd1-84f9-29e79a7aaae5",
   "metadata": {},
   "outputs": [
    {
     "name": "stdin",
     "output_type": "stream",
     "text": [
      "Enter the Units:  310\n"
     ]
    },
    {
     "name": "stdout",
     "output_type": "stream",
     "text": [
      "Total bill in Rs. 2250.0\n"
     ]
    }
   ],
   "source": [
    "# Q3. Create a python program to compute the electricity bill for a household.\n",
    "#     The per-unit charges in rupees are as follows: For the first 100 units, the user will be charged Rs. 4.5 per \n",
    "#     unit, for the next 100 units, the user will be charged Rs. 6 per unit, and for the next 100 units, the user will \n",
    "#     be charged Rs. 10 per unit, After 300 units and above the user will be charged Rs. 20 per unit.\n",
    "#     You are required to take the units of electricity consumed in a month from the user as input\n",
    "#     Your program must pass this test case: when the unit of electricity consumed by the user in a month is \n",
    "#     310, the total electricity bill should be 2250\n",
    "bill = 0\n",
    "units = float(input(\"Enter the Units: \"))\n",
    "if units <= 100:\n",
    "    bill = 100*4.5\n",
    "elif units <= 200:\n",
    "    bill = ((100*4.5)+(units-100)*6)\n",
    "elif units <= 300:\n",
    "    bill = ((100*4.5)+(100*6)+(units-200)*10)\n",
    "else: \n",
    "    bill = ((100*4.5)+(100*6)+(100*10)+(units-300)*20)\n",
    "    \n",
    "print(\"Total bill in Rs.\" , bill)"
   ]
  },
  {
   "cell_type": "code",
   "execution_count": 5,
   "id": "4afe94a8-464f-4a94-8c61-a7e7fbfa707c",
   "metadata": {},
   "outputs": [
    {
     "name": "stdout",
     "output_type": "stream",
     "text": [
      "Cubes list using for loop:  [2, 4, 5, 6, 8, 10, 12, 14, 15, 16, 18, 20, 22, 24, 25, 26, 28, 30, 32, 34, 35, 36, 38, 40, 42, 44, 45, 46, 48, 50, 52, 54, 55, 56, 58, 60, 62, 64, 65, 66, 68, 70, 72, 74, 75, 76, 78, 80, 82, 84, 85, 86, 88, 90, 92, 94, 95, 96, 98, 100]\n"
     ]
    }
   ],
   "source": [
    "#Q4. Create a list of numbers from 1 to 100. Use for loop and while loop to calculate the cube of each \n",
    "#    number and if the cube of that number is divisible by 4 or 5 then append that number in a list and print \n",
    "#    that list\n",
    "\n",
    "# using for loop cube \n",
    "cubes_for = []\n",
    "for i in range(1,101):\n",
    "    cube = i**3\n",
    "    if (cube%4==0) or (cube%5==0):\n",
    "        cubes_for.append(i)\n",
    "print('Cubes list using for loop: ', cubes_for)"
   ]
  },
  {
   "cell_type": "code",
   "execution_count": 1,
   "id": "d155f340-de63-4e86-b7b8-cd390ac6872a",
   "metadata": {},
   "outputs": [
    {
     "name": "stdout",
     "output_type": "stream",
     "text": [
      "Cubes list using while loop:  [2, 4, 5, 6, 8, 10, 12, 14, 15, 16, 18, 20, 22, 24, 25, 26, 28, 30, 32, 34, 35, 36, 38, 40, 42, 44, 45, 46, 48, 50, 52, 54, 55, 56, 58, 60, 62, 64, 65, 66, 68, 70, 72, 74, 75, 76, 78, 80, 82, 84, 85, 86, 88, 90, 92, 94, 95, 96, 98, 100]\n"
     ]
    }
   ],
   "source": [
    "#using while loop cube \n",
    "cubes_while = []\n",
    "num = 1\n",
    "while num <= 100:\n",
    "    cube = num**3\n",
    "    if (cube%4==0) or (cube%5==0):\n",
    "        cubes_while.append(num)\n",
    "    num+=1                \n",
    "print('Cubes list using while loop: ', cubes_while)"
   ]
  },
  {
   "cell_type": "code",
   "execution_count": 5,
   "id": "f9b9e297-07e6-4ef2-80ba-b5db0b3cda01",
   "metadata": {},
   "outputs": [
    {
     "name": "stdout",
     "output_type": "stream",
     "text": [
      "Number of vowels: 12\n"
     ]
    }
   ],
   "source": [
    "#Q5.  Write a program to filter count vowels in the below-given string.\n",
    "\n",
    "       #string = \"I want to become a data scientist\"\n",
    "\n",
    "string = \"I want to become a data scientist\"\n",
    "vowels = \"aeiouAEIOU\"\n",
    "count = 0\n",
    "\n",
    "for character in string:\n",
    "    if character in vowels:\n",
    "        count += 1\n",
    "\n",
    "print(\"Number of vowels:\", count)"
   ]
  },
  {
   "cell_type": "code",
   "execution_count": null,
   "id": "89fd809a-04c6-46dd-8dfc-e5a458916172",
   "metadata": {},
   "outputs": [],
   "source": []
  }
 ],
 "metadata": {
  "kernelspec": {
   "display_name": "Python 3 (ipykernel)",
   "language": "python",
   "name": "python3"
  },
  "language_info": {
   "codemirror_mode": {
    "name": "ipython",
    "version": 3
   },
   "file_extension": ".py",
   "mimetype": "text/x-python",
   "name": "python",
   "nbconvert_exporter": "python",
   "pygments_lexer": "ipython3",
   "version": "3.10.8"
  }
 },
 "nbformat": 4,
 "nbformat_minor": 5
}
